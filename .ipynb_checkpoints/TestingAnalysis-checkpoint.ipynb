{
 "cells": [
  {
   "cell_type": "code",
   "execution_count": 1,
   "metadata": {},
   "outputs": [
    {
     "name": "stdout",
     "output_type": "stream",
     "text": [
      "The number of ancestors is: 2 ,the LX is: 120 ,and the LY is: 50\n",
      "5100\n"
     ]
    }
   ],
   "source": [
    "import matplotlib as mpl\n",
    "import matplotlib.pyplot as plt\n",
    "import matplotlib.animation as ani\n",
    "import numpy as np\n",
    "import pandas as pd     #Pandas reads files\n",
    "import csv\n",
    "import colorsys\n",
    "import os\n",
    "\n",
    "\n",
    "# ## Ran the code just to determine the max value in the 3rd index. Unneeded code.\n",
    "\n",
    "# In[184]:\n",
    "\n",
    "os.getcwd()\n",
    "x = []\n",
    "with open(\"test.csv\", \"r\" ) as f:\n",
    "    a = [ [ int(dummy) for dummy in line.split() ] for line in f.readlines()] \n",
    "with open(\"make.csv\", \"r\") as g:\n",
    "    b = [[int(dummy) for dummy in line.split() ] for line in g.readlines()]\n",
    "    num_ancestors = b[0][0]\n",
    "    LX = b[0][1]\n",
    "    LY  = b [0][2]\n",
    "print(\"The number of ancestors is: \" + str(num_ancestors) + \" ,the LX is: \" + str(LX) + \" ,and the LY is: \" + str(LY))\n",
    "\n",
    "MAX = int((LX * LY)*.85) #This will act as TEND FROM NOW ON.\n",
    "#Go to 80-90% of when it is filled up.\n",
    "\n",
    "print(MAX)\n",
    "\n",
    "\n",
    "\n",
    "\n",
    "with open(\"new_file.csv\",\"w+\") as my_csv:\n",
    "    csvWriter = csv.writer(my_csv,delimiter=',')\n",
    "    csvWriter.writerows(a)\n",
    "\n",
    "\n",
    "\n"
   ]
  },
  {
   "cell_type": "code",
   "execution_count": 2,
   "metadata": {},
   "outputs": [],
   "source": [
    "#bg to run a command in the background and fg to return to the process.\n",
    "#control + c to exit the keyboard.\n",
    "\n",
    "\n",
    "# ## Using the file, the 2d array was initiated, then filled.\n",
    "num_ancestors = max([ dummy[2] for dummy in a]) + 1\n",
    "#print (num_ancestors)\n",
    "\n",
    "p = [None for i in range(0, max([dummy[3] for dummy in a])+1)]\n",
    "#print(len(p))\n",
    "#print(len(a))\n",
    "\n",
    "for j in range (0, len(a)): #Make an array that's as empty as it needs to be. 0 - max of length of what I need, including zero, not max\n",
    "    g = a[j] #Grab the lines of the array\n",
    "    #g=[x,y,label,t, motherx,smothery]\n",
    "    h = g[3] #looking at the column and saving it\n",
    "\n",
    "    p[h] = g #setting the column to the location in the new array\n",
    "#type(p) #I want to know the type of 'p'.\n"
   ]
  },
  {
   "cell_type": "code",
   "execution_count": 3,
   "metadata": {},
   "outputs": [
    {
     "data": {
      "text/plain": [
       "<Figure size 1080x1080 with 0 Axes>"
      ]
     },
     "metadata": {},
     "output_type": "display_data"
    }
   ],
   "source": [
    "\n",
    "\n",
    "\n",
    "# ##  Fleshing out the x and y values from the ordered list.\n",
    "# Here is where I noticed that the past code was creating NONE values in the 2array p. I am still debugging as to why that is. I believe that it may be that none is created every time that the index is looking at the exact value where it is trying to move. For instance, \n",
    "# g = a[j] when placing in p[h] = g, if the value 2444 is j and is by chance in the correct place already, None is just placed in p.\n",
    "\n",
    "# ## Add the 2 missing 0 values to the p array from a.\n",
    "# Read in {x, y, label, t, motherx, mothery.\n",
    "\n",
    "from matplotlib import pyplot as plt\n",
    "plt.figure(figsize = (15, 15))\n",
    "\n",
    "\n",
    "sim = [ [ [1.,1.,1.] for j in range(0, LX) ] for i in range (0, LY) ]\n"
   ]
  },
  {
   "cell_type": "code",
   "execution_count": 5,
   "metadata": {},
   "outputs": [
    {
     "ename": "IndexError",
     "evalue": "list assignment index out of range",
     "output_type": "error",
     "traceback": [
      "\u001b[0;31m---------------------------------------------------------------------------\u001b[0m",
      "\u001b[0;31mIndexError\u001b[0m                                Traceback (most recent call last)",
      "\u001b[0;32m<ipython-input-5-3f4054891398>\u001b[0m in \u001b[0;36m<module>\u001b[0;34m\u001b[0m\n\u001b[1;32m     17\u001b[0m         \u001b[0;31m#print(\"X: \" + str(x) + \" Y: \"  + str(y))\u001b[0m\u001b[0;34m\u001b[0m\u001b[0;34m\u001b[0m\u001b[0;34m\u001b[0m\u001b[0m\n\u001b[1;32m     18\u001b[0m         \u001b[0mrgb\u001b[0m \u001b[0;34m=\u001b[0m \u001b[0mcolorsys\u001b[0m\u001b[0;34m.\u001b[0m\u001b[0mhsv_to_rgb\u001b[0m\u001b[0;34m(\u001b[0m\u001b[0mlabel\u001b[0m\u001b[0;34m/\u001b[0m\u001b[0mnum_ancestors\u001b[0m\u001b[0;34m,\u001b[0m \u001b[0;36m1\u001b[0m \u001b[0;34m,\u001b[0m\u001b[0;36m1\u001b[0m\u001b[0;34m)\u001b[0m \u001b[0;31m#(hsv)\u001b[0m\u001b[0;34m\u001b[0m\u001b[0;34m\u001b[0m\u001b[0m\n\u001b[0;32m---> 19\u001b[0;31m         \u001b[0msim\u001b[0m\u001b[0;34m[\u001b[0m\u001b[0myflipped\u001b[0m\u001b[0;34m]\u001b[0m\u001b[0;34m[\u001b[0m\u001b[0mx\u001b[0m\u001b[0;34m]\u001b[0m \u001b[0;34m=\u001b[0m \u001b[0mrgb\u001b[0m\u001b[0;34m\u001b[0m\u001b[0;34m\u001b[0m\u001b[0m\n\u001b[0m\u001b[1;32m     20\u001b[0m \u001b[0;34m\u001b[0m\u001b[0m\n\u001b[1;32m     21\u001b[0m     \u001b[0;32mif\u001b[0m\u001b[0;34m(\u001b[0m\u001b[0mlabel\u001b[0m \u001b[0;34m==\u001b[0m \u001b[0;34m-\u001b[0m\u001b[0;36m1\u001b[0m \u001b[0;32mand\u001b[0m \u001b[0mtime\u001b[0m \u001b[0;34m<=\u001b[0m \u001b[0mMAX\u001b[0m\u001b[0;34m)\u001b[0m\u001b[0;34m:\u001b[0m\u001b[0;34m\u001b[0m\u001b[0;34m\u001b[0m\u001b[0m\n",
      "\u001b[0;31mIndexError\u001b[0m: list assignment index out of range"
     ]
    }
   ],
   "source": [
    "#print(\"Note that the saving of images will be out of order.\")\n",
    "#q = 50 # Number of images that will be saved.\n",
    "#print(\"This will take a while :/ \")\n",
    "sim = [ [ [1.,1.,1.] for j in range(0, 50) ] for i in range (0,50) ]\n",
    "for i in range(len(a)):\n",
    "    x = a[i][0]\n",
    "    y = a[i][1]\n",
    "    #xflipped = 50 - 1 - x      \n",
    "    yflipped = 50 - 1 - y #Flipping to match the style of mathematica\n",
    "    \n",
    "    label = a[i][2]\n",
    "    time = a[i][3] #If use p, then I will be able to use time as the counter\n",
    "    #print(time)\n",
    "\n",
    "    if(time <= MAX):\n",
    "        #print(\"Y Flipped: \" + str(yflipped))\n",
    "        #print(\"X: \" + str(x) + \" Y: \"  + str(y))\n",
    "        rgb = colorsys.hsv_to_rgb(label/num_ancestors, 1 ,1) #(hsv)\n",
    "        sim[yflipped][x] = rgb\n",
    "\n",
    "    if(label == -1 and time <= MAX):\n",
    "        sim[yflipped][x] = [1.,1.,1.]\n",
    "        \n"
   ]
  },
  {
   "cell_type": "code",
   "execution_count": null,
   "metadata": {},
   "outputs": [],
   "source": []
  },
  {
   "cell_type": "code",
   "execution_count": null,
   "metadata": {},
   "outputs": [],
   "source": []
  }
 ],
 "metadata": {
  "anaconda-cloud": {},
  "kernelspec": {
   "display_name": "Python 3",
   "language": "python",
   "name": "python3"
  },
  "language_info": {
   "codemirror_mode": {
    "name": "ipython",
    "version": 3
   },
   "file_extension": ".py",
   "mimetype": "text/x-python",
   "name": "python",
   "nbconvert_exporter": "python",
   "pygments_lexer": "ipython3",
   "version": "3.7.3"
  }
 },
 "nbformat": 4,
 "nbformat_minor": 1
}
